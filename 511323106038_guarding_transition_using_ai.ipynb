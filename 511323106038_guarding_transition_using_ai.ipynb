{
  "nbformat": 4,
  "nbformat_minor": 0,
  "metadata": {
    "colab": {
      "provenance": [],
      "authorship_tag": "ABX9TyP+fZhmy6eucOdk3E0rXrwY",
      "include_colab_link": true
    },
    "kernelspec": {
      "name": "python3",
      "display_name": "Python 3"
    },
    "language_info": {
      "name": "python"
    }
  },
  "cells": [
    {
      "cell_type": "markdown",
      "metadata": {
        "id": "view-in-github",
        "colab_type": "text"
      },
      "source": [
        "<a href=\"https://colab.research.google.com/github/praveenkumar-30726/GUARDING-TRANSACTIONS-WITH-AI-POWER-CREDIT-CARD-FRAUD-DETECTION-AND-PREVENTION-/blob/main/511323106038_guarding_transition_using_ai.ipynb\" target=\"_parent\"><img src=\"https://colab.research.google.com/assets/colab-badge.svg\" alt=\"Open In Colab\"/></a>"
      ]
    },
    {
      "cell_type": "code",
      "source": [
        "\n",
        "import pandas as pd\n",
        "from sklearn.ensemble import RandomForestClassifier\n",
        "from sklearn.model_selection import train_test_split\n",
        "import random\n",
        "\n",
        "# Generate simple synthetic transaction data\n",
        "def generate_data(num_transactions=500):\n",
        "    data = []\n",
        "    for _ in range(num_transactions):\n",
        "        is_fraud = random.choices([0, 1], weights=[0.95, 0.05])[0]\n",
        "\n",
        "        # Generate features\n",
        "        amount = random.uniform(1, 1000) if not is_fraud else random.uniform(100, 5000)\n",
        "        time = random.randint(0, 23)\n",
        "        foreign = 1 if is_fraud and random.random() > 0.7 else 0\n",
        "        online = random.choices([0, 1], weights=[0.6, 0.4])[0]\n",
        "\n",
        "        data.append({\n",
        "            'amount': round(amount, 2),\n",
        "            'time': time,\n",
        "            'foreign': foreign,\n",
        "            'online': online,\n",
        "            'is_fraud': is_fraud\n",
        "        })\n",
        "    return pd.DataFrame(data)\n",
        "\n",
        "# Generate and prepare data\n",
        "print(\"Generating transaction data...\")\n",
        "transactions = generate_data()\n",
        "X = transactions.drop('is_fraud', axis=1)\n",
        "y = transactions['is_fraud']\n",
        "\n",
        "# Split data\n",
        "X_train, X_test, y_train, y_test = train_test_split(X, y, test_size=0.2, random_state=42)\n",
        "\n",
        "# Train model\n",
        "print(\"Training fraud detection model...\")\n",
        "model = RandomForestClassifier(n_estimators=50, random_state=42)\n",
        "model.fit(X_train, y_train)\n",
        "\n",
        "# Evaluate\n",
        "accuracy = model.score(X_test, y_test)\n",
        "print(f\"Model trained. Test accuracy: {accuracy:.2f}\")\n",
        "\n",
        "# Fraud detection function\n",
        "def check_fraud(transaction):\n",
        "    proba = model.predict_proba(pd.DataFrame([transaction]))[0][1]\n",
        "    is_fraud = proba > 0.6  # Threshold\n",
        "    return is_fraud, proba\n",
        "\n",
        "# Sample transactions to check\n",
        "samples = [\n",
        "    {'amount': 45.50, 'time': 14, 'foreign': 0, 'online': 0},  # Normal\n",
        "    {'amount': 1200.00, 'time': 3, 'foreign': 1, 'online': 1},  # Suspicious\n",
        "    {'amount': 8.75, 'time': 19, 'foreign': 0, 'online': 1}     # Normal\n",
        "]\n",
        "\n",
        "print(\"\\nFraud Detection Results:\")\n",
        "print(\"-\" * 40)\n",
        "for i, transaction in enumerate(samples, 1):\n",
        "    fraud, proba = check_fraud(transaction)\n",
        "    status = \"FRAUD ALERT!\" if fraud else \"Legitimate\"\n",
        "    print(f\"Transaction #{i}:\")\n",
        "    print(f\"Amount: ${transaction['amount']}\")\n",
        "    print(f\"Time: {transaction['time']}:00\")\n",
        "    print(f\"Foreign: {'Yes' if transaction['foreign'] else 'No'}\")\n",
        "    print(f\"Online: {'Yes' if transaction['online'] else 'No'}\")\n",
        "    print(f\"Fraud probability: {proba:.1%}\")\n",
        "    print(f\"Status: {status}\")\n",
        "    print(\"-\" * 40)"
      ],
      "metadata": {
        "colab": {
          "base_uri": "https://localhost:8080/"
        },
        "id": "BTHJrwtVIK2R",
        "outputId": "346f5561-e885-49ae-f57a-f02cde5c81b5"
      },
      "execution_count": null,
      "outputs": [
        {
          "output_type": "stream",
          "name": "stdout",
          "text": [
            "Generating transaction data...\n",
            "Training fraud detection model...\n",
            "Model trained. Test accuracy: 1.00\n",
            "\n",
            "Fraud Detection Results:\n",
            "----------------------------------------\n",
            "Transaction #1:\n",
            "Amount: $45.5\n",
            "Time: 14:00\n",
            "Foreign: No\n",
            "Online: No\n",
            "Fraud probability: 0.0%\n",
            "Status: Legitimate\n",
            "----------------------------------------\n",
            "Transaction #2:\n",
            "Amount: $1200.0\n",
            "Time: 3:00\n",
            "Foreign: Yes\n",
            "Online: Yes\n",
            "Fraud probability: 96.0%\n",
            "Status: FRAUD ALERT!\n",
            "----------------------------------------\n",
            "Transaction #3:\n",
            "Amount: $8.75\n",
            "Time: 19:00\n",
            "Foreign: No\n",
            "Online: Yes\n",
            "Fraud probability: 0.0%\n",
            "Status: Legitimate\n",
            "----------------------------------------\n"
          ]
        }
      ]
    },
    {
      "cell_type": "code",
      "source": [
        "import pandas as np\n",
        "df=np.read_csv('card_transdata.csv')\n",
        "print(df.head())"
      ],
      "metadata": {
        "id": "7juOLO3oYoe5"
      },
      "execution_count": null,
      "outputs": []
    },
    {
      "cell_type": "code",
      "source": [],
      "metadata": {
        "colab": {
          "base_uri": "https://localhost:8080/"
        },
        "id": "6o2L769ZYo2M",
        "outputId": "1bc94031-6715-42e6-cb3c-1e597020c86e"
      },
      "execution_count": 2,
      "outputs": [
        {
          "output_type": "stream",
          "name": "stdout",
          "text": [
            "   distance_from_home  distance_from_last_transaction  \\\n",
            "0           57.877857                        0.311140   \n",
            "1           10.829943                        0.175592   \n",
            "2            5.091079                        0.805153   \n",
            "3            2.247564                        5.600044   \n",
            "4           44.190936                        0.566486   \n",
            "\n",
            "   ratio_to_median_purchase_price  repeat_retailer  used_chip  \\\n",
            "0                        1.945940              1.0        1.0   \n",
            "1                        1.294219              1.0        0.0   \n",
            "2                        0.427715              1.0        0.0   \n",
            "3                        0.362663              1.0        1.0   \n",
            "4                        2.222767              1.0        1.0   \n",
            "\n",
            "   used_pin_number  online_order  fraud  \n",
            "0              0.0           0.0    0.0  \n",
            "1              0.0           0.0    0.0  \n",
            "2              0.0           1.0    0.0  \n",
            "3              0.0           1.0    0.0  \n",
            "4              0.0           1.0    0.0  \n"
          ]
        }
      ]
    },
    {
      "cell_type": "code",
      "source": [
        "import pandas as np\n",
        "df=np.read_csv('card_transdata.csv')\n",
        "df=df.round(2)\n",
        "print(df.head())"
      ],
      "metadata": {
        "id": "7BPleKC7a0FL",
        "outputId": "31919e99-a011-4cd5-898f-2d01a1635f63",
        "colab": {
          "base_uri": "https://localhost:8080/"
        }
      },
      "execution_count": 7,
      "outputs": [
        {
          "output_type": "stream",
          "name": "stdout",
          "text": [
            "   distance_from_home  distance_from_last_transaction  \\\n",
            "0               57.88                            0.31   \n",
            "1               10.83                            0.18   \n",
            "2                5.09                            0.81   \n",
            "3                2.25                            5.60   \n",
            "4               44.19                            0.57   \n",
            "\n",
            "   ratio_to_median_purchase_price  repeat_retailer  used_chip  \\\n",
            "0                            1.95              1.0        1.0   \n",
            "1                            1.29              1.0        0.0   \n",
            "2                            0.43              1.0        0.0   \n",
            "3                            0.36              1.0        1.0   \n",
            "4                            2.22              1.0        1.0   \n",
            "\n",
            "   used_pin_number  online_order  fraud  \n",
            "0              0.0           0.0    0.0  \n",
            "1              0.0           0.0    0.0  \n",
            "2              0.0           1.0    0.0  \n",
            "3              0.0           1.0    0.0  \n",
            "4              0.0           1.0    0.0  \n"
          ]
        }
      ]
    }
  ]
}