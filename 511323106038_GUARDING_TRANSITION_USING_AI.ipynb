{
  "nbformat": 4,
  "nbformat_minor": 0,
  "metadata": {
    "colab": {
      "provenance": [],
      "toc_visible": true,
      "authorship_tag": "ABX9TyNbUrKS/Wvva4luU9hcDl/0",
      "include_colab_link": true
    },
    "kernelspec": {
      "name": "python3",
      "display_name": "Python 3"
    },
    "language_info": {
      "name": "python"
    }
  },
  "cells": [
    {
      "cell_type": "markdown",
      "metadata": {
        "id": "view-in-github",
        "colab_type": "text"
      },
      "source": [
        "<a href=\"https://colab.research.google.com/github/praveenkumar-30726/GUARDING-TRANSACTIONS-WITH-AI-POWER-CREDIT-CARD-FRAUD-DETECTION-AND-PREVENTION-/blob/main/511323106038_GUARDING_TRANSITION_USING_AI.ipynb\" target=\"_parent\"><img src=\"https://colab.research.google.com/assets/colab-badge.svg\" alt=\"Open In Colab\"/></a>"
      ]
    },
    {
      "cell_type": "code",
      "source": [
        "import pandas as pd\n",
        "\n",
        "# Load the dataset\n",
        "df = pd.read_csv('creditcard.csv')\n",
        "print(df.head())\n",
        "print(df['Class'].value_counts())  # Check class distribution\n"
      ],
      "metadata": {
        "id": "R_elwoCeTNds"
      },
      "execution_count": null,
      "outputs": []
    }
  ]
}